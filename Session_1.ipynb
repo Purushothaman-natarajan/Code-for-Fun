{
 "cells": [
  {
   "cell_type": "code",
   "execution_count": 1,
   "id": "8d16ea57-3945-49b0-8167-e1ff2b8dae41",
   "metadata": {},
   "outputs": [
    {
     "name": "stdout",
     "output_type": "stream",
     "text": [
      "2\n"
     ]
    }
   ],
   "source": [
    "def count_words(sentence):\n",
    "    words = sentence.split()\n",
    "    return len(words)\n",
    "\n",
    "str = 'Hello world!'\n",
    "print(count_words(str))"
   ]
  },
  {
   "cell_type": "code",
   "execution_count": 9,
   "id": "769d69c7-1a77-4834-81db-4b39ed9e61bb",
   "metadata": {},
   "outputs": [
    {
     "name": "stdout",
     "output_type": "stream",
     "text": [
      "True\n"
     ]
    }
   ],
   "source": [
    "def palindrome(s):\n",
    "    return s == s[::-1]\n",
    "\n",
    "s = \"radar\"\n",
    "print(palindrome(s))"
   ]
  },
  {
   "cell_type": "code",
   "execution_count": 10,
   "id": "b9a423e3-1d5a-414a-b118-8179037f9667",
   "metadata": {},
   "outputs": [
    {
     "name": "stdout",
     "output_type": "stream",
     "text": [
      "ot eh si eh\n"
     ]
    }
   ],
   "source": [
    "def reverse_string(s):\n",
    "    return s[::-1]\n",
    "s = 'he is he to'\n",
    "print(reverse_string(s))"
   ]
  },
  {
   "cell_type": "code",
   "execution_count": 13,
   "id": "3d09303b-194a-4208-9df2-03889f701a29",
   "metadata": {},
   "outputs": [
    {
     "name": "stdout",
     "output_type": "stream",
     "text": [
      "6\n"
     ]
    }
   ],
   "source": [
    "def max_sub_array(nums):\n",
    "    max_sum = cur_sum = nums[0]\n",
    "    for num in nums[1:]:\n",
    "        cur_sum = max(num, cur_sum + num)\n",
    "        max_sum = max(max_sum, cur_sum)\n",
    "    return max_sum\n",
    "\n",
    "a = [-2, 1, -3, 4, -1, 2, 1, -5, 4]\n",
    "print(max_sub_array(a))"
   ]
  },
  {
   "cell_type": "code",
   "execution_count": 14,
   "id": "2e49e88e-7ade-4a3e-a19f-50e5c221ea52",
   "metadata": {},
   "outputs": [
    {
     "name": "stdout",
     "output_type": "stream",
     "text": [
      "True\n"
     ]
    }
   ],
   "source": [
    "def anagram(s1, s2):\n",
    "    return sorted(s1) == sorted(s2)\n",
    "s1 = \"hello ory\"\n",
    "s2 = \"elloh roy\"\n",
    "\n",
    "print(anagram(s1,s2))"
   ]
  },
  {
   "cell_type": "code",
   "execution_count": 16,
   "id": "bb9d6d03-8d01-4a00-9c8b-3773ac406c14",
   "metadata": {},
   "outputs": [
    {
     "name": "stdout",
     "output_type": "stream",
     "text": [
      "3628800\n"
     ]
    }
   ],
   "source": [
    "def factorial(n):\n",
    "    if n == 0:\n",
    "        return 1\n",
    "    else:\n",
    "        return n * factorial(n-1)\n",
    "\n",
    "n = 10\n",
    "print(factorial(n))"
   ]
  },
  {
   "cell_type": "code",
   "execution_count": 2,
   "id": "ff17c63e-b967-426f-8eab-d87c9578ca68",
   "metadata": {},
   "outputs": [
    {
     "name": "stdout",
     "output_type": "stream",
     "text": [
      "(2091, 1, 1)\n"
     ]
    }
   ],
   "source": [
    "# Define a simple nextDay procedure, that assumes every month has 30 days.\n",
    "\n",
    "def nextDay(year, month, day):\n",
    "    if day<30:\n",
    "        return year, month,day + 1\n",
    "    else:\n",
    "        if month < 12:\n",
    "            return year, month + 1, 1\n",
    "        else:\n",
    "            return year+1, 1, 1\n",
    "            \n",
    "print(nextDay(2090,12,30))"
   ]
  },
  {
   "cell_type": "code",
   "execution_count": null,
   "id": "ade1fbef-eeb3-4678-8daa-1b283c6907bd",
   "metadata": {},
   "outputs": [],
   "source": []
  }
 ],
 "metadata": {
  "kernelspec": {
   "display_name": "Python 3 (ipykernel)",
   "language": "python",
   "name": "python3"
  },
  "language_info": {
   "codemirror_mode": {
    "name": "ipython",
    "version": 3
   },
   "file_extension": ".py",
   "mimetype": "text/x-python",
   "name": "python",
   "nbconvert_exporter": "python",
   "pygments_lexer": "ipython3",
   "version": "3.12.1"
  }
 },
 "nbformat": 4,
 "nbformat_minor": 5
}
